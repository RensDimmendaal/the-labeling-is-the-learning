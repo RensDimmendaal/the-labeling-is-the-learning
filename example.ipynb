{
 "cells": [
  {
   "cell_type": "markdown",
   "metadata": {},
   "source": [
    "# Interactive Labeling\n",
    "\n",
    "In many applications creating the label taxonomy for your problem is the hard part.\n",
    "In this notebook we show some tricks that can help you with that."
   ]
  },
  {
   "cell_type": "code",
   "execution_count": null,
   "metadata": {},
   "outputs": [],
   "source": [
    "%load_ext autoreload\n",
    "%autoreload 2"
   ]
  },
  {
   "cell_type": "code",
   "execution_count": null,
   "metadata": {},
   "outputs": [],
   "source": [
    "import altair as alt\n",
    "\n",
    "from datasets import load_dataset\n",
    "import pandas as pd\n",
    "\n",
    "from whatlies.language import UniversalSentenceLanguage, BytePairLanguage\n",
    "from whatlies.transformers import Umap\n",
    "\n",
    "from ipysheet.pandas_loader import from_dataframe, to_dataframe\n",
    "from sklearn.metrics.pairwise import cosine_similarity"
   ]
  },
  {
   "cell_type": "markdown",
   "metadata": {},
   "source": [
    "## Example Dataset"
   ]
  },
  {
   "cell_type": "code",
   "execution_count": null,
   "metadata": {},
   "outputs": [],
   "source": [
    "ds = load_dataset(\"bing_coronavirus_query_set\", queries_by=\"state\", start_date=\"2020-09-01\", end_date=\"2020-09-30\")\n",
    "\n",
    "df = ds.data['train'].to_pandas()"
   ]
  },
  {
   "cell_type": "code",
   "execution_count": null,
   "metadata": {},
   "outputs": [],
   "source": [
    "us = (\n",
    "    df\n",
    "    .loc[lambda d: d['Country']==\"United States\"]\n",
    "    .value_counts(\"Query\")\n",
    "    .reset_index()\n",
    "    .rename({\"Query\":\"query\",0:\"counts\"},axis=1)\n",
    ")\n",
    "\n",
    "us"
   ]
  },
  {
   "cell_type": "markdown",
   "metadata": {},
   "source": [
    "## Trick 1: Align Regex Matches\n",
    "\n",
    "This helps you eyeball what's matched by a pattern a lot easier."
   ]
  },
  {
   "cell_type": "code",
   "execution_count": null,
   "metadata": {},
   "outputs": [],
   "source": [
    "from rich.console import Console \n",
    "import re\n",
    "\n",
    "def print_matches_centered(texts,pattern,left=45,right=45,style=\"bold blue underline\",max_lines=None):\n",
    "    console = Console(highlight=False)\n",
    "    n_matches = 0\n",
    "\n",
    "    max_lines = max_lines if max_lines else len(texts)\n",
    "    \n",
    "    # we shuffle \n",
    "    for text in pd.Series(texts).sample(frac=1):\n",
    "            match = re.search(pattern,text)\n",
    "            if match:\n",
    "                start, end = match.span()\n",
    "                length = end - start\n",
    "                if start > left:\n",
    "                    prefix = text[(start-left):start]\n",
    "                else:\n",
    "                    prefix = \" \"*(left-start) + text[:start]\n",
    "                processed_text = prefix+f\"[{style}]\" + text[start:end] + \"[/]\" + text[end:(end+right-length)]\n",
    "                console.print(processed_text)\n",
    " \n",
    "                n_matches+=1\n",
    "                if n_matches >= max_lines:\n",
    "                    break"
   ]
  },
  {
   "cell_type": "code",
   "execution_count": null,
   "metadata": {},
   "outputs": [],
   "source": [
    "print_matches_centered(us['query'],\"mask\",max_lines=20)"
   ]
  },
  {
   "cell_type": "markdown",
   "metadata": {},
   "source": [
    "## Load embeddings\n",
    "\n",
    "We use the whatlies package as a convenience wrapper around our sentence embedders and dimensionality reducers.\n",
    "\n",
    "In practice you want to try out different embeddings, different dimensionality reducers, and different hyper paramters for the latter.\n",
    "\n",
    "Clustering in practice is like reading tea leaves: you need to stir the cup every now to see what new patterns emerge."
   ]
  },
  {
   "cell_type": "code",
   "execution_count": null,
   "metadata": {},
   "outputs": [],
   "source": [
    "lang = BytePairLanguage(\"en\")  # Use UniversalSentenceLanguage() for better results\n",
    "\n",
    "embset = lang[[s for s in us['query']]]\n",
    "embs = embset.to_X()\n",
    "\n",
    "umapped = embset.transform(Umap(2)).to_X()  # Umap has kwargs that you can play with, or try PCA\n",
    "\n",
    "us[['dim0','dim1']] = umapped"
   ]
  },
  {
   "cell_type": "markdown",
   "metadata": {},
   "source": [
    "## Plot\n",
    "\n",
    "This plot is also in the whatlies package, it's called the brush_plot there, we create it ourselves here so we can edit it interactively more easily."
   ]
  },
  {
   "cell_type": "code",
   "execution_count": null,
   "metadata": {},
   "outputs": [],
   "source": [
    "us['label'] = \"Missing\"  # initialize labels"
   ]
  },
  {
   "cell_type": "code",
   "execution_count": null,
   "metadata": {},
   "outputs": [],
   "source": [
    "x_axis='dim0'\n",
    "y_axis='dim1'\n",
    "x_label = \"X\"\n",
    "y_label = \"Y\"\n",
    "color=\"label\"\n",
    "tooltip=[\"query\",'label','counts']\n",
    "title=\"hello\"\n",
    "n_show=15"
   ]
  },
  {
   "cell_type": "code",
   "execution_count": null,
   "metadata": {
    "scrolled": true
   },
   "outputs": [],
   "source": [
    "result = (\n",
    "    alt.Chart(us)\n",
    "    .mark_circle(size=60,opacity=.2)\n",
    "    .encode(\n",
    "        x=alt.X(x_axis, axis=alt.Axis(title=x_label)),\n",
    "        y=alt.X(y_axis, axis=alt.Axis(title=y_label)),\n",
    "        tooltip=tooltip,\n",
    "        color=alt.Color(\":N\", legend=None) if not color else alt.Color(color),\n",
    "    )\n",
    "    .properties(title=title)\n",
    ")\n",
    "\n",
    "brush = alt.selection(type=\"interval\")\n",
    "ranked_text = (\n",
    "    alt.Chart(us)\n",
    "    .mark_text()\n",
    "    .encode(\n",
    "        y=alt.Y(\"row_number:O\", axis=None),\n",
    "        color=alt.Color(\":N\", legend=None) if not color else alt.Color(color),\n",
    "    )\n",
    "    .transform_window(row_number=\"row_number()\")\n",
    "    .transform_filter(brush)\n",
    "    .transform_window(rank=\"rank(row_number)\")\n",
    "    .transform_filter(alt.datum.rank < n_show)\n",
    ")\n",
    "text_plt = ranked_text.encode(text=\"query:N\").properties(\n",
    "    width=250, title=\"Text Selection\"\n",
    ")\n",
    "result.add_selection(brush) | text_plt"
   ]
  },
  {
   "cell_type": "markdown",
   "metadata": {},
   "source": [
    "## Assign labels\n",
    "\n",
    "This is just an example.\n",
    "Here we greediy assign labels: a row gets the label of the last pattern that was matched.\n",
    "This isn't perfect. I'd prefer to assign each label to a separate column and then do some manual refinement afterwards."
   ]
  },
  {
   "cell_type": "code",
   "execution_count": null,
   "metadata": {},
   "outputs": [],
   "source": [
    "# us['label'] = \"Missing\"  # Uncomment if you want to remove all previous labels\n",
    "\n",
    "patterns = [\n",
    "    \"county\",\n",
    "    \"mask|shield|face\\b|cover\",\n",
    "#     states_pattern,  # Defined below\n",
    "    \"quarantine\",\n",
    "    \"football|nfl|ball\"\n",
    "]\n",
    "\n",
    "for pat in patterns:\n",
    "    us.loc[[True if re.search(pat, q) else False for q in us['query']], 'label'] = pat\n",
    "    \n",
    "us['label'].value_counts(normalize=True).reset_index().assign(label = lambda d: d.label.apply(lambda f: f\"{f:.2f}\"))"
   ]
  },
  {
   "cell_type": "code",
   "execution_count": null,
   "metadata": {},
   "outputs": [],
   "source": [
    "states = \"\"\"Alabama\n",
    "Alaska\n",
    "Arizona\n",
    "Arkansas\n",
    "California\n",
    "Colorado\n",
    "Connecticut\n",
    "Delaware\n",
    "Florida\n",
    "Georgia\n",
    "Hawaii\n",
    "Idaho\n",
    "Illinois\n",
    "Indiana\n",
    "Iowa\n",
    "Kansas\n",
    "Kentucky\n",
    "Louisiana\n",
    "Maine\n",
    "Maryland\n",
    "Massachusetts\n",
    "Michigan\n",
    "Minnesota\n",
    "Mississippi\n",
    "Missouri\n",
    "Montana\n",
    "Nebraska\n",
    "Nevada\n",
    "New Hampshire\n",
    "New Jersey\n",
    "New Mexico\n",
    "New York\n",
    "North Carolina\n",
    "North Dakota\n",
    "Ohio\n",
    "Oklahoma\n",
    "Oregon\n",
    "Pennsylvania\n",
    "Rhode Island\n",
    "South Carolina\n",
    "South Dakota\n",
    "Tennessee\n",
    "Texas\n",
    "Utah\n",
    "Vermont\n",
    "Virginia\n",
    "Washington\n",
    "West Virginia\n",
    "Wisconsin\n",
    "Wyoming\n",
    "District of Columbia\n",
    "Puerto Rico\n",
    "Guam\n",
    "American Samoa\n",
    "U.S. Virgin Islands\n",
    "Northern Mariana Islands\n",
    "\"\"\"\n",
    "\n",
    "states_pattern = \"|\".join(s.lower() for s in states.splitlines())"
   ]
  },
  {
   "cell_type": "markdown",
   "metadata": {},
   "source": [
    "## Similarity Search\n",
    "\n",
    "Sometimes you can't describe a rule as a regex pattern.\n",
    "Here we show how you can write an example sentence. Display similar sentences in an editable table and then assign a label to those rows that you found that match it well.\n",
    "\n",
    "Ideally you'd also add these as seperate columns to then resolve which label(s) fit best."
   ]
  },
  {
   "cell_type": "code",
   "execution_count": null,
   "metadata": {},
   "outputs": [],
   "source": [
    "ex = \"face mask\""
   ]
  },
  {
   "cell_type": "code",
   "execution_count": null,
   "metadata": {},
   "outputs": [],
   "source": [
    "us['sims'] = cosine_similarity(lang[ex].vector.reshape((1,-1)),embs).reshape((-1,))"
   ]
  },
  {
   "cell_type": "code",
   "execution_count": null,
   "metadata": {},
   "outputs": [],
   "source": [
    "manual_label = (\n",
    "    us\n",
    "    .nlargest(50,columns=\"sims\")\n",
    "    .sort_values(by=\"dim0\")\n",
    "    .assign(relevant = \"X\")\n",
    "    [[\"query\",\"label\",\"relevant\"]]\n",
    ")"
   ]
  },
  {
   "cell_type": "code",
   "execution_count": null,
   "metadata": {},
   "outputs": [],
   "source": [
    "sheet = from_dataframe(manual_label)"
   ]
  },
  {
   "cell_type": "code",
   "execution_count": null,
   "metadata": {},
   "outputs": [],
   "source": [
    "sheet"
   ]
  },
  {
   "cell_type": "code",
   "execution_count": null,
   "metadata": {},
   "outputs": [],
   "source": [
    "out = to_dataframe(sheet)"
   ]
  },
  {
   "cell_type": "code",
   "execution_count": null,
   "metadata": {},
   "outputs": [],
   "source": [
    "us.loc[\n",
    "    out.query(\"relevant == 'X'\").index.astype(int), \"label\"] = \"manual_mask\""
   ]
  },
  {
   "cell_type": "markdown",
   "metadata": {},
   "source": [
    "## Concluding remarks\n",
    "\n",
    "\n",
    "I've come to believe that:\n",
    "\n",
    "> the Labeling **IS** the Learning\n",
    "\n",
    "It is a great exercise to learn what is actually in our data.\n",
    "For many business applications creating the label taxonomy is actually the hard part.\n",
    "For that the tools discussed here are particularly useful.\n",
    "\n",
    "Just don't forget to hand over these crude labels to someone (or yourself) who do go over them one by one to verify if they're correct or not.\n",
    "A simple three step process could be:\n",
    "\n",
    "1. Bulk labeling with tools inspired by what's in this notebook\n",
    "2. Manual verification if the labels were correct (prioritize checking observations where model(s) disagree)\n",
    "3. Manually input the correct labels for the mistakes identified in 2. AND OPTIONALLY update the rule that created that label in 1.\n",
    "\n",
    "Just because you need to label your data doesn't mean that you have to do it one by one.\n",
    "And it can be extended by zooming in on subsets of your data, e.g. those predicted wrongly by your current model, or where different models in your ensemble disagree."
   ]
  }
 ],
 "metadata": {
  "kernelspec": {
   "display_name": "Python 3",
   "language": "python",
   "name": "python3"
  },
  "language_info": {
   "codemirror_mode": {
    "name": "ipython",
    "version": 3
   },
   "file_extension": ".py",
   "mimetype": "text/x-python",
   "name": "python",
   "nbconvert_exporter": "python",
   "pygments_lexer": "ipython3",
   "version": "3.8.1"
  },
  "toc": {
   "base_numbering": 1,
   "nav_menu": {},
   "number_sections": true,
   "sideBar": true,
   "skip_h1_title": false,
   "title_cell": "Table of Contents",
   "title_sidebar": "Contents",
   "toc_cell": false,
   "toc_position": {},
   "toc_section_display": true,
   "toc_window_display": false
  }
 },
 "nbformat": 4,
 "nbformat_minor": 5
}
